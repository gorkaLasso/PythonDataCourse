{
 "cells": [
  {
   "cell_type": "code",
   "execution_count": 1,
   "metadata": {},
   "outputs": [
    {
     "name": "stdout",
     "output_type": "stream",
     "text": [
      "Collecting git+https://github.com/gucky92/datajoint-python.git\n",
      "  Cloning https://github.com/gucky92/datajoint-python.git to /private/var/folders/pj/fqr4h5y552g7rgtg4rpcrksc0000gn/T/pip-req-build-ktx76v4s\n",
      "  Running command git clone -q https://github.com/gucky92/datajoint-python.git /private/var/folders/pj/fqr4h5y552g7rgtg4rpcrksc0000gn/T/pip-req-build-ktx76v4s\n",
      "Requirement already satisfied (use --upgrade to upgrade): datajoint==0.12.5 from git+https://github.com/gucky92/datajoint-python.git in /Users/gorkalasso/opt/anaconda3/lib/python3.7/site-packages\n",
      "Requirement already satisfied: numpy in /Users/gorkalasso/opt/anaconda3/lib/python3.7/site-packages (from datajoint==0.12.5) (1.18.1)\n",
      "Requirement already satisfied: pymysql>=0.7.2 in /Users/gorkalasso/opt/anaconda3/lib/python3.7/site-packages (from datajoint==0.12.5) (0.9.3)\n",
      "Requirement already satisfied: pyparsing in /Users/gorkalasso/opt/anaconda3/lib/python3.7/site-packages (from datajoint==0.12.5) (2.4.6)\n",
      "Requirement already satisfied: ipython in /Users/gorkalasso/opt/anaconda3/lib/python3.7/site-packages (from datajoint==0.12.5) (7.12.0)\n",
      "Requirement already satisfied: pandas in /Users/gorkalasso/opt/anaconda3/lib/python3.7/site-packages (from datajoint==0.12.5) (1.0.1)\n",
      "Requirement already satisfied: tqdm in /Users/gorkalasso/opt/anaconda3/lib/python3.7/site-packages (from datajoint==0.12.5) (4.42.1)\n",
      "Requirement already satisfied: networkx in /Users/gorkalasso/opt/anaconda3/lib/python3.7/site-packages (from datajoint==0.12.5) (2.4)\n",
      "Requirement already satisfied: pydot in /Users/gorkalasso/opt/anaconda3/lib/python3.7/site-packages (from datajoint==0.12.5) (1.4.1)\n",
      "Requirement already satisfied: minio in /Users/gorkalasso/opt/anaconda3/lib/python3.7/site-packages (from datajoint==0.12.5) (5.0.10)\n",
      "Requirement already satisfied: matplotlib in /Users/gorkalasso/opt/anaconda3/lib/python3.7/site-packages (from datajoint==0.12.5) (3.1.3)\n",
      "Requirement already satisfied: appnope; sys_platform == \"darwin\" in /Users/gorkalasso/opt/anaconda3/lib/python3.7/site-packages (from ipython->datajoint==0.12.5) (0.1.0)\n",
      "Requirement already satisfied: backcall in /Users/gorkalasso/opt/anaconda3/lib/python3.7/site-packages (from ipython->datajoint==0.12.5) (0.1.0)\n",
      "Requirement already satisfied: pygments in /Users/gorkalasso/opt/anaconda3/lib/python3.7/site-packages (from ipython->datajoint==0.12.5) (2.5.2)\n",
      "Requirement already satisfied: jedi>=0.10 in /Users/gorkalasso/opt/anaconda3/lib/python3.7/site-packages (from ipython->datajoint==0.12.5) (0.14.1)\n",
      "Requirement already satisfied: pexpect; sys_platform != \"win32\" in /Users/gorkalasso/opt/anaconda3/lib/python3.7/site-packages (from ipython->datajoint==0.12.5) (4.8.0)\n",
      "Requirement already satisfied: traitlets>=4.2 in /Users/gorkalasso/opt/anaconda3/lib/python3.7/site-packages (from ipython->datajoint==0.12.5) (4.3.3)\n",
      "Requirement already satisfied: prompt-toolkit!=3.0.0,!=3.0.1,<3.1.0,>=2.0.0 in /Users/gorkalasso/opt/anaconda3/lib/python3.7/site-packages (from ipython->datajoint==0.12.5) (3.0.3)\n",
      "Requirement already satisfied: decorator in /Users/gorkalasso/opt/anaconda3/lib/python3.7/site-packages (from ipython->datajoint==0.12.5) (4.4.1)\n",
      "Requirement already satisfied: pickleshare in /Users/gorkalasso/opt/anaconda3/lib/python3.7/site-packages (from ipython->datajoint==0.12.5) (0.7.5)\n",
      "Requirement already satisfied: setuptools>=18.5 in /Users/gorkalasso/opt/anaconda3/lib/python3.7/site-packages (from ipython->datajoint==0.12.5) (46.0.0.post20200309)\n",
      "Requirement already satisfied: python-dateutil>=2.6.1 in /Users/gorkalasso/opt/anaconda3/lib/python3.7/site-packages (from pandas->datajoint==0.12.5) (2.8.1)\n",
      "Requirement already satisfied: pytz>=2017.2 in /Users/gorkalasso/opt/anaconda3/lib/python3.7/site-packages (from pandas->datajoint==0.12.5) (2019.3)\n",
      "Requirement already satisfied: urllib3 in /Users/gorkalasso/opt/anaconda3/lib/python3.7/site-packages (from minio->datajoint==0.12.5) (1.25.8)\n",
      "Requirement already satisfied: certifi in /Users/gorkalasso/opt/anaconda3/lib/python3.7/site-packages (from minio->datajoint==0.12.5) (2019.11.28)\n",
      "Requirement already satisfied: configparser in /Users/gorkalasso/opt/anaconda3/lib/python3.7/site-packages (from minio->datajoint==0.12.5) (5.0.0)\n",
      "Requirement already satisfied: kiwisolver>=1.0.1 in /Users/gorkalasso/opt/anaconda3/lib/python3.7/site-packages (from matplotlib->datajoint==0.12.5) (1.1.0)\n",
      "Requirement already satisfied: cycler>=0.10 in /Users/gorkalasso/opt/anaconda3/lib/python3.7/site-packages (from matplotlib->datajoint==0.12.5) (0.10.0)\n",
      "Requirement already satisfied: parso>=0.5.0 in /Users/gorkalasso/opt/anaconda3/lib/python3.7/site-packages (from jedi>=0.10->ipython->datajoint==0.12.5) (0.5.2)\n",
      "Requirement already satisfied: ptyprocess>=0.5 in /Users/gorkalasso/opt/anaconda3/lib/python3.7/site-packages (from pexpect; sys_platform != \"win32\"->ipython->datajoint==0.12.5) (0.6.0)\n",
      "Requirement already satisfied: ipython-genutils in /Users/gorkalasso/opt/anaconda3/lib/python3.7/site-packages (from traitlets>=4.2->ipython->datajoint==0.12.5) (0.2.0)\n",
      "Requirement already satisfied: six in /Users/gorkalasso/opt/anaconda3/lib/python3.7/site-packages (from traitlets>=4.2->ipython->datajoint==0.12.5) (1.14.0)\n",
      "Requirement already satisfied: wcwidth in /Users/gorkalasso/opt/anaconda3/lib/python3.7/site-packages (from prompt-toolkit!=3.0.0,!=3.0.1,<3.1.0,>=2.0.0->ipython->datajoint==0.12.5) (0.1.8)\n",
      "Building wheels for collected packages: datajoint\n",
      "  Building wheel for datajoint (setup.py) ... \u001b[?25ldone\n",
      "\u001b[?25h  Created wheel for datajoint: filename=datajoint-0.12.5-py3-none-any.whl size=104326 sha256=c42d9ede1bee0898b191ec07f1c7a3c5e19335fea38ce9fdc0143f50a3457bc2\n",
      "  Stored in directory: /private/var/folders/pj/fqr4h5y552g7rgtg4rpcrksc0000gn/T/pip-ephem-wheel-cache-d_68s8qh/wheels/ed/04/fc/404f1ed852d8f1edd0aa120c525339045afa7d676064d06dc0\n",
      "Successfully built datajoint\n"
     ]
    }
   ],
   "source": [
    "import sys\n",
    "!{sys.executable} -m pip install git+https://github.com/gucky92/datajoint-python.git"
   ]
  },
  {
   "cell_type": "code",
   "execution_count": 2,
   "metadata": {},
   "outputs": [],
   "source": [
    "import datajoint"
   ]
  },
  {
   "cell_type": "code",
   "execution_count": null,
   "metadata": {},
   "outputs": [],
   "source": []
  }
 ],
 "metadata": {
  "kernelspec": {
   "display_name": "Python 3",
   "language": "python",
   "name": "python3"
  },
  "language_info": {
   "codemirror_mode": {
    "name": "ipython",
    "version": 3
   },
   "file_extension": ".py",
   "mimetype": "text/x-python",
   "name": "python",
   "nbconvert_exporter": "python",
   "pygments_lexer": "ipython3",
   "version": "3.7.6"
  }
 },
 "nbformat": 4,
 "nbformat_minor": 4
}
